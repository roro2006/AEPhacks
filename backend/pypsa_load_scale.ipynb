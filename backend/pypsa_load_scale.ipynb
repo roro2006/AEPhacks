{
 "cells": [
  {
   "cell_type": "markdown",
   "id": "9aeb705b-3701-428d-b484-1a620d1cafce",
   "metadata": {},
   "source": [
    "# Load and Gen Scaling\n",
    "\n",
    "Load and gen changes based on time of day, day of the week, and weather. You can see some government data [here](https://www.eia.gov/todayinenergy/detail.php?id=42915) for some fun data.\n",
    "\n",
    "The load changes through the day provide another interesting problem to solve if you solve everything else. This requires a lot of work with a solver and manipulating the model."
   ]
  },
  {
   "cell_type": "markdown",
   "id": "8733f9c4-766a-4ae0-a762-50e26fead2c3",
   "metadata": {},
   "source": [
    "## Scaling in our Hawaii40 model\n",
    "\n",
    "We can use a sine wave to approximate load variations through the day if we are:\n",
    "- min/max at 6pm/6am\n",
    "- values in model are nominal - peaks are 10% below/above nominal.\n",
    "\n",
    "Remember that as we increase the load, we also must increase then generation. The solver doesn't automatically change the generation values to meet the new load. If you don't increase the generation, this \"missing power\" will magically come from the slack bus or cause the solver to fail. "
   ]
  },
  {
   "cell_type": "code",
   "execution_count": 1,
   "id": "41fde275-a005-4084-96d7-764b0463cad6",
   "metadata": {},
   "outputs": [],
   "source": [
    "def check_pf(info):\n",
    "    converged = info.converged.any().any()\n",
    "    max_error = info.error.max().max()\n",
    "    print(f\"Sim converged: {converged}\")\n",
    "    print(f\"Max error: {max_error:.2e}\")\n",
    "\n",
    "    if ~converged:\n",
    "        raise Exception(\"Sim didn't convert - results are garbage. Change to lpf()\")"
   ]
  },
  {
   "cell_type": "code",
   "execution_count": 2,
   "id": "e150767a-103f-44d9-af61-b0ce114d3821",
   "metadata": {},
   "outputs": [
    {
     "name": "stderr",
     "output_type": "stream",
     "text": [
      "WARNING:pypsa.network.io:Importing network from PyPSA version v0.35.2 while current version is v1.0.2. Read the release notes at `https://go.pypsa.org/release-notes` to prepare your network for import.\n",
      "INFO:pypsa.network.io:Imported network 'Unnamed Network' has buses, generators, lines, loads, shunt_impedances, transformers\n",
      "INFO:pypsa.network.power_flow:Performing non-linear load-flow on AC sub-network <pypsa.networks.SubNetwork object at 0x0000022785C9B8C0> for snapshots Index(['now'], dtype='object', name='snapshot')\n"
     ]
    },
    {
     "name": "stdout",
     "output_type": "stream",
     "text": [
      "Sim converged: True\n",
      "Max error: 1.21e-07\n"
     ]
    }
   ],
   "source": [
    "import pypsa\n",
    "network = pypsa.Network()\n",
    "network.import_from_csv_folder('data')\n",
    "info = network.pf()\n",
    "check_pf(info)"
   ]
  },
  {
   "cell_type": "markdown",
   "id": "8ce9763f-a727-4d97-be5d-881dad041e66",
   "metadata": {},
   "source": [
    "## Sanity check gen and load\n",
    "\n",
    "The gen and load should be fairly close to each other, or something is really wrong with the model"
   ]
  },
  {
   "cell_type": "code",
   "execution_count": 3,
   "id": "2d6abd7e-5f8b-4c95-a8d0-ee6a97dd20ff",
   "metadata": {},
   "outputs": [
    {
     "name": "stdout",
     "output_type": "stream",
     "text": [
      "Total load in network 1136.0\n"
     ]
    }
   ],
   "source": [
    "pload_total = network.loads['p_set'].sum().round(0)\n",
    "print(f\"Total load in network {pload_total}\")"
   ]
  },
  {
   "cell_type": "code",
   "execution_count": 4,
   "id": "61d90b47-95cc-4502-942f-36071cf8d356",
   "metadata": {},
   "outputs": [
    {
     "name": "stdout",
     "output_type": "stream",
     "text": [
      "Total gen in network 1155.0\n"
     ]
    }
   ],
   "source": [
    "pgen_total = network.generators['p_set'].sum().round(0)\n",
    "print(f\"Total gen in network {pgen_total}\")"
   ]
  },
  {
   "cell_type": "markdown",
   "id": "e0a2629c-fef1-4237-9e0a-69f70b0cdc9e",
   "metadata": {},
   "source": [
    "## Sanity check gen and load solution\n",
    "\n",
    "Our solved values for gen and load should closely match the set points."
   ]
  },
  {
   "cell_type": "code",
   "execution_count": 5,
   "id": "e69ad0f5-1ae2-45ba-9c32-149e6ef9e3bf",
   "metadata": {},
   "outputs": [
    {
     "data": {
      "application/vnd.microsoft.datawrangler.viewer.v0+json": {
       "columns": [
        {
         "name": "snapshot",
         "rawType": "object",
         "type": "string"
        },
        {
         "name": "0",
         "rawType": "float64",
         "type": "float"
        }
       ],
       "ref": "fa374b3c-562b-4515-af69-6d9bf5d29e7c",
       "rows": [
        [
         "now",
         "1154.9869632742825"
        ]
       ],
       "shape": {
        "columns": 1,
        "rows": 1
       }
      },
      "text/plain": [
       "snapshot\n",
       "now    1154.986963\n",
       "dtype: float64"
      ]
     },
     "execution_count": 5,
     "metadata": {},
     "output_type": "execute_result"
    }
   ],
   "source": [
    "network.generators_t['p'].sum(axis=1)"
   ]
  },
  {
   "cell_type": "code",
   "execution_count": 6,
   "id": "2a273601-8926-432d-8003-bd1d2cc65035",
   "metadata": {},
   "outputs": [
    {
     "data": {
      "application/vnd.microsoft.datawrangler.viewer.v0+json": {
       "columns": [
        {
         "name": "snapshot",
         "rawType": "object",
         "type": "string"
        },
        {
         "name": "0",
         "rawType": "float64",
         "type": "float"
        }
       ],
       "ref": "f4ca416b-90e1-4192-a4c5-d67ef9a22093",
       "rows": [
        [
         "now",
         "1136.2900000000002"
        ]
       ],
       "shape": {
        "columns": 1,
        "rows": 1
       }
      },
      "text/plain": [
       "snapshot\n",
       "now    1136.29\n",
       "dtype: float64"
      ]
     },
     "execution_count": 6,
     "metadata": {},
     "output_type": "execute_result"
    }
   ],
   "source": [
    "network.loads_t['p'].sum(axis=1)"
   ]
  },
  {
   "cell_type": "markdown",
   "id": "495a1f47-0edc-4382-b9ba-a63ec5525ffc",
   "metadata": {},
   "source": [
    "## Sine waves ftw\n",
    "\n",
    "Let's create our load profile with the venerable sine wave.  "
   ]
  },
  {
   "cell_type": "code",
   "execution_count": 7,
   "id": "184d907a-bd76-49e1-b210-017b5aa7f016",
   "metadata": {},
   "outputs": [],
   "source": [
    "import matplotlib.pyplot as plt\n",
    "import numpy as np"
   ]
  },
  {
   "cell_type": "code",
   "execution_count": 8,
   "id": "39d439d1-5db0-48ae-8eef-e01ae9166253",
   "metadata": {},
   "outputs": [
    {
     "data": {
      "image/png": "[encoded data removed]",
      "text/plain": [
       "<Figure size 640x480 with 1 Axes>"
      ]
     },
     "metadata": {},
     "output_type": "display_data"
    }
   ],
   "source": [
    "x = np.arange(36)\n",
    "f = 1/36\n",
    "offset = 1136\n",
    "A = 100\n",
    "C = 2*np.pi/2\n",
    "y = A * np.sin(2*np.pi * f * x + C) + offset\n",
    "plt.plot(x, y, 'o')\n",
    "plt.xlabel('hour of day')\n",
    "plt.ylabel('load (MW)')\n",
    "plt.grid()\n",
    "plt.show()"
   ]
  },
  {
   "cell_type": "code",
   "execution_count": 9,
   "id": "9ba04960-b140-4882-8e4c-972725cfc26c",
   "metadata": {},
   "outputs": [
    {
     "data": {
      "image/png": "[encoded data removed]",
      "text/plain": [
       "<Figure size 640x480 with 1 Axes>"
      ]
     },
     "metadata": {},
     "output_type": "display_data"
    }
   ],
   "source": [
    "# I changed my mind - let's normalize the sine wave between 0-1 so I can just \n",
    "# scale each gen/load\n",
    "x = np.arange(36)\n",
    "f = 1/36\n",
    "offset = 1\n",
    "A = .1\n",
    "C = 2*np.pi/2\n",
    "y = A * np.sin(2*np.pi * f * x + C) + offset\n",
    "plt.plot(x, y, 'o')\n",
    "plt.xlabel('hour of day')\n",
    "plt.ylabel('load/gen fraction')\n",
    "plt.grid()\n",
    "plt.show()"
   ]
  },
  {
   "cell_type": "code",
   "execution_count": 10,
   "id": "31fe1b5f-5fd7-4f8c-ac03-13eb2cf6403a",
   "metadata": {},
   "outputs": [
    {
     "data": {
      "text/plain": [
       "[1.0,\n",
       " 0.983,\n",
       " 0.966,\n",
       " 0.95,\n",
       " 0.936,\n",
       " 0.923,\n",
       " 0.913,\n",
       " 0.906,\n",
       " 0.902,\n",
       " 0.9,\n",
       " 0.902,\n",
       " 0.906,\n",
       " 0.913,\n",
       " 0.923,\n",
       " 0.936,\n",
       " 0.95,\n",
       " 0.966,\n",
       " 0.983,\n",
       " 1.0,\n",
       " 1.017,\n",
       " 1.034,\n",
       " 1.05,\n",
       " 1.064,\n",
       " 1.077,\n",
       " 1.087,\n",
       " 1.094,\n",
       " 1.098,\n",
       " 1.1,\n",
       " 1.098,\n",
       " 1.094,\n",
       " 1.087,\n",
       " 1.077,\n",
       " 1.064,\n",
       " 1.05,\n",
       " 1.034,\n",
       " 1.017]"
      ]
     },
     "execution_count": 10,
     "metadata": {},
     "output_type": "execute_result"
    }
   ],
   "source": [
    "# To a list because some days I don't trust numpy\n",
    "y.round(3).tolist()"
   ]
  },
  {
   "cell_type": "markdown",
   "id": "dc5e4f6e-5680-4251-93ea-ea86d9eecb51",
   "metadata": {},
   "source": [
    "## Let's scale those loads\n",
    "\n",
    "Now that we have the weights calculated let's apply them to the model and solve the case again. Since we have time varying data we should try to figure out the pypsa snapshot.\n",
    "\n",
    "In my experience, the snapshot pattern isn't typically built into simulators. I usually have to keep track of the data outside of the tool. "
   ]
  },
  {
   "cell_type": "code",
   "execution_count": 11,
   "id": "4509097d-c2d0-4ccc-879b-e5511bf9fe1f",
   "metadata": {},
   "outputs": [
    {
     "name": "stdout",
     "output_type": "stream",
     "text": [
      "Scaling load by 1.1\n"
     ]
    }
   ],
   "source": [
    "hour = 6\n",
    "scale = 1.1\n",
    "print(f\"Scaling load by {scale}\")"
   ]
  },
  {
   "cell_type": "code",
   "execution_count": 12,
   "id": "c346f498-afbc-4dce-8ed9-fc4c247f2f10",
   "metadata": {},
   "outputs": [
    {
     "data": {
      "application/vnd.microsoft.datawrangler.viewer.v0+json": {
       "columns": [
        {
         "name": "name",
         "rawType": "object",
         "type": "string"
        },
        {
         "name": "bus",
         "rawType": "object",
         "type": "string"
        },
        {
         "name": "carrier",
         "rawType": "object",
         "type": "string"
        },
        {
         "name": "type",
         "rawType": "object",
         "type": "string"
        },
        {
         "name": "p_set",
         "rawType": "float64",
         "type": "float"
        },
        {
         "name": "q_set",
         "rawType": "float64",
         "type": "float"
        },
        {
         "name": "sign",
         "rawType": "float64",
         "type": "float"
        },
        {
         "name": "active",
         "rawType": "bool",
         "type": "boolean"
        }
       ],
       "ref": "e30ac76d-790a-4509-a300-21ff1456ad82",
       "rows": [
        [
         "L0",
         "2",
         "",
         "",
         "60.7",
         "0.0",
         "-1.0",
         "True"
        ],
        [
         "L1",
         "3",
         "",
         "",
         "59.39",
         "0.0",
         "-1.0",
         "True"
        ],
        [
         "L2",
         "4",
         "",
         "",
         "22.47",
         "0.0",
         "-1.0",
         "True"
        ],
        [
         "L3",
         "6",
         "",
         "",
         "27.46",
         "0.0",
         "-1.0",
         "True"
        ],
        [
         "L4",
         "7",
         "",
         "",
         "37.01",
         "0.0",
         "-1.0",
         "True"
        ]
       ],
       "shape": {
        "columns": 7,
        "rows": 5
       }
      },
      "text/html": [
       "<div>\n",
       "<style scoped>\n",
       "    .dataframe tbody tr th:only-of-type {\n",
       "        vertical-align: middle;\n",
       "    }\n",
       "\n",
       "    .dataframe tbody tr th {\n",
       "        vertical-align: top;\n",
       "    }\n",
       "\n",
       "    .dataframe thead th {\n",
       "        text-align: right;\n",
       "    }\n",
       "</style>\n",
       "<table border=\"1\" class=\"dataframe\">\n",
       "  <thead>\n",
       "    <tr style=\"text-align: right;\">\n",
       "      <th></th>\n",
       "      <th>bus</th>\n",
       "      <th>carrier</th>\n",
       "      <th>type</th>\n",
       "      <th>p_set</th>\n",
       "      <th>q_set</th>\n",
       "      <th>sign</th>\n",
       "      <th>active</th>\n",
       "    </tr>\n",
       "    <tr>\n",
       "      <th>name</th>\n",
       "      <th></th>\n",
       "      <th></th>\n",
       "      <th></th>\n",
       "      <th></th>\n",
       "      <th></th>\n",
       "      <th></th>\n",
       "      <th></th>\n",
       "    </tr>\n",
       "  </thead>\n",
       "  <tbody>\n",
       "    <tr>\n",
       "      <th>L0</th>\n",
       "      <td>2</td>\n",
       "      <td></td>\n",
       "      <td></td>\n",
       "      <td>60.70</td>\n",
       "      <td>0.0</td>\n",
       "      <td>-1.0</td>\n",
       "      <td>True</td>\n",
       "    </tr>\n",
       "    <tr>\n",
       "      <th>L1</th>\n",
       "      <td>3</td>\n",
       "      <td></td>\n",
       "      <td></td>\n",
       "      <td>59.39</td>\n",
       "      <td>0.0</td>\n",
       "      <td>-1.0</td>\n",
       "      <td>True</td>\n",
       "    </tr>\n",
       "    <tr>\n",
       "      <th>L2</th>\n",
       "      <td>4</td>\n",
       "      <td></td>\n",
       "      <td></td>\n",
       "      <td>22.47</td>\n",
       "      <td>0.0</td>\n",
       "      <td>-1.0</td>\n",
       "      <td>True</td>\n",
       "    </tr>\n",
       "    <tr>\n",
       "      <th>L3</th>\n",
       "      <td>6</td>\n",
       "      <td></td>\n",
       "      <td></td>\n",
       "      <td>27.46</td>\n",
       "      <td>0.0</td>\n",
       "      <td>-1.0</td>\n",
       "      <td>True</td>\n",
       "    </tr>\n",
       "    <tr>\n",
       "      <th>L4</th>\n",
       "      <td>7</td>\n",
       "      <td></td>\n",
       "      <td></td>\n",
       "      <td>37.01</td>\n",
       "      <td>0.0</td>\n",
       "      <td>-1.0</td>\n",
       "      <td>True</td>\n",
       "    </tr>\n",
       "  </tbody>\n",
       "</table>\n",
       "</div>"
      ],
      "text/plain": [
       "     bus carrier type  p_set  q_set  sign  active\n",
       "name                                             \n",
       "L0     2               60.70    0.0  -1.0    True\n",
       "L1     3               59.39    0.0  -1.0    True\n",
       "L2     4               22.47    0.0  -1.0    True\n",
       "L3     6               27.46    0.0  -1.0    True\n",
       "L4     7               37.01    0.0  -1.0    True"
      ]
     },
     "execution_count": 12,
     "metadata": {},
     "output_type": "execute_result"
    }
   ],
   "source": [
    "network.loads.head()"
   ]
  },
  {
   "cell_type": "code",
   "execution_count": 13,
   "id": "0088bbdb-a54b-408f-8445-7b7837e94a4d",
   "metadata": {},
   "outputs": [],
   "source": [
    "# Take a moment to appreciate how each this is\n",
    "# We always scale P (real) and Q (imag) together because that's how it works\n",
    "network.loads['p_set'] = scale * network.loads['p_set']\n",
    "network.loads['q_set'] = scale * network.loads['q_set']"
   ]
  },
  {
   "cell_type": "code",
   "execution_count": 14,
   "id": "c512d9c3-4840-4a36-8beb-4be405a37b47",
   "metadata": {},
   "outputs": [
    {
     "data": {
      "application/vnd.microsoft.datawrangler.viewer.v0+json": {
       "columns": [
        {
         "name": "name",
         "rawType": "object",
         "type": "string"
        },
        {
         "name": "bus",
         "rawType": "object",
         "type": "string"
        },
        {
         "name": "carrier",
         "rawType": "object",
         "type": "string"
        },
        {
         "name": "type",
         "rawType": "object",
         "type": "string"
        },
        {
         "name": "p_set",
         "rawType": "float64",
         "type": "float"
        },
        {
         "name": "q_set",
         "rawType": "float64",
         "type": "float"
        },
        {
         "name": "sign",
         "rawType": "float64",
         "type": "float"
        },
        {
         "name": "active",
         "rawType": "bool",
         "type": "boolean"
        }
       ],
       "ref": "b3b9c49a-c1f3-44f5-94fe-ec746d241a0b",
       "rows": [
        [
         "L0",
         "2",
         "",
         "",
         "66.77000000000001",
         "0.0",
         "-1.0",
         "True"
        ],
        [
         "L1",
         "3",
         "",
         "",
         "65.32900000000001",
         "0.0",
         "-1.0",
         "True"
        ],
        [
         "L2",
         "4",
         "",
         "",
         "24.717000000000002",
         "0.0",
         "-1.0",
         "True"
        ],
        [
         "L3",
         "6",
         "",
         "",
         "30.206000000000003",
         "0.0",
         "-1.0",
         "True"
        ],
        [
         "L4",
         "7",
         "",
         "",
         "40.711",
         "0.0",
         "-1.0",
         "True"
        ]
       ],
       "shape": {
        "columns": 7,
        "rows": 5
       }
      },
      "text/html": [
       "<div>\n",
       "<style scoped>\n",
       "    .dataframe tbody tr th:only-of-type {\n",
       "        vertical-align: middle;\n",
       "    }\n",
       "\n",
       "    .dataframe tbody tr th {\n",
       "        vertical-align: top;\n",
       "    }\n",
       "\n",
       "    .dataframe thead th {\n",
       "        text-align: right;\n",
       "    }\n",
       "</style>\n",
       "<table border=\"1\" class=\"dataframe\">\n",
       "  <thead>\n",
       "    <tr style=\"text-align: right;\">\n",
       "      <th></th>\n",
       "      <th>bus</th>\n",
       "      <th>carrier</th>\n",
       "      <th>type</th>\n",
       "      <th>p_set</th>\n",
       "      <th>q_set</th>\n",
       "      <th>sign</th>\n",
       "      <th>active</th>\n",
       "    </tr>\n",
       "    <tr>\n",
       "      <th>name</th>\n",
       "      <th></th>\n",
       "      <th></th>\n",
       "      <th></th>\n",
       "      <th></th>\n",
       "      <th></th>\n",
       "      <th></th>\n",
       "      <th></th>\n",
       "    </tr>\n",
       "  </thead>\n",
       "  <tbody>\n",
       "    <tr>\n",
       "      <th>L0</th>\n",
       "      <td>2</td>\n",
       "      <td></td>\n",
       "      <td></td>\n",
       "      <td>66.770</td>\n",
       "      <td>0.0</td>\n",
       "      <td>-1.0</td>\n",
       "      <td>True</td>\n",
       "    </tr>\n",
       "    <tr>\n",
       "      <th>L1</th>\n",
       "      <td>3</td>\n",
       "      <td></td>\n",
       "      <td></td>\n",
       "      <td>65.329</td>\n",
       "      <td>0.0</td>\n",
       "      <td>-1.0</td>\n",
       "      <td>True</td>\n",
       "    </tr>\n",
       "    <tr>\n",
       "      <th>L2</th>\n",
       "      <td>4</td>\n",
       "      <td></td>\n",
       "      <td></td>\n",
       "      <td>24.717</td>\n",
       "      <td>0.0</td>\n",
       "      <td>-1.0</td>\n",
       "      <td>True</td>\n",
       "    </tr>\n",
       "    <tr>\n",
       "      <th>L3</th>\n",
       "      <td>6</td>\n",
       "      <td></td>\n",
       "      <td></td>\n",
       "      <td>30.206</td>\n",
       "      <td>0.0</td>\n",
       "      <td>-1.0</td>\n",
       "      <td>True</td>\n",
       "    </tr>\n",
       "    <tr>\n",
       "      <th>L4</th>\n",
       "      <td>7</td>\n",
       "      <td></td>\n",
       "      <td></td>\n",
       "      <td>40.711</td>\n",
       "      <td>0.0</td>\n",
       "      <td>-1.0</td>\n",
       "      <td>True</td>\n",
       "    </tr>\n",
       "  </tbody>\n",
       "</table>\n",
       "</div>"
      ],
      "text/plain": [
       "     bus carrier type   p_set  q_set  sign  active\n",
       "name                                              \n",
       "L0     2               66.770    0.0  -1.0    True\n",
       "L1     3               65.329    0.0  -1.0    True\n",
       "L2     4               24.717    0.0  -1.0    True\n",
       "L3     6               30.206    0.0  -1.0    True\n",
       "L4     7               40.711    0.0  -1.0    True"
      ]
     },
     "execution_count": 14,
     "metadata": {},
     "output_type": "execute_result"
    }
   ],
   "source": [
    "# Note that p_set is lower\n",
    "network.loads.head()"
   ]
  },
  {
   "cell_type": "code",
   "execution_count": 15,
   "id": "f5e2e031-a8d0-4afa-b53d-45be822a5648",
   "metadata": {},
   "outputs": [],
   "source": [
    "# Rinse and repeat for gens\n",
    "network.generators['p_set'] = scale * network.generators['p_set']\n",
    "network.generators['q_set'] = scale * network.generators['q_set']"
   ]
  },
  {
   "cell_type": "markdown",
   "id": "d7da1738-5b32-4d75-8d3c-b5a33cfb96fd",
   "metadata": {},
   "source": [
    "## Solve and compare\n",
    "\n",
    "Solve the new case and see if the gens/loads are actually different (spoiler alert: they better be)"
   ]
  },
  {
   "cell_type": "code",
   "execution_count": 16,
   "id": "a24b5e3e-9d13-4e44-9b85-75d7aa7da1e0",
   "metadata": {},
   "outputs": [
    {
     "name": "stderr",
     "output_type": "stream",
     "text": [
      "INFO:pypsa.network.power_flow:Performing non-linear load-flow on AC sub-network <pypsa.networks.SubNetwork object at 0x0000022785E942D0> for snapshots Index(['now'], dtype='object', name='snapshot')\n"
     ]
    },
    {
     "name": "stdout",
     "output_type": "stream",
     "text": [
      "Sim converged: True\n",
      "Max error: 2.77e-07\n"
     ]
    }
   ],
   "source": [
    "info = network.pf()\n",
    "check_pf(info)"
   ]
  },
  {
   "cell_type": "code",
   "execution_count": 17,
   "id": "22419617-ef14-4de8-b377-1812277bb63d",
   "metadata": {},
   "outputs": [
    {
     "data": {
      "application/vnd.microsoft.datawrangler.viewer.v0+json": {
       "columns": [
        {
         "name": "snapshot",
         "rawType": "object",
         "type": "string"
        },
        {
         "name": "0",
         "rawType": "float64",
         "type": "float"
        }
       ],
       "ref": "783ce9d4-9595-48a9-899a-2825e793b9e9",
       "rows": [
        [
         "now",
         "1272.6056559499027"
        ]
       ],
       "shape": {
        "columns": 1,
        "rows": 1
       }
      },
      "text/plain": [
       "snapshot\n",
       "now    1272.605656\n",
       "dtype: float64"
      ]
     },
     "execution_count": 17,
     "metadata": {},
     "output_type": "execute_result"
    }
   ],
   "source": [
    "# should be about 1039 = 0.9 * 1155 \n",
    "network.generators_t['p'].sum(axis=1)"
   ]
  },
  {
   "cell_type": "code",
   "execution_count": 18,
   "id": "01ea392d-d9ad-415d-aa42-de97f894b587",
   "metadata": {},
   "outputs": [
    {
     "data": {
      "application/vnd.microsoft.datawrangler.viewer.v0+json": {
       "columns": [
        {
         "name": "snapshot",
         "rawType": "object",
         "type": "string"
        },
        {
         "name": "0",
         "rawType": "float64",
         "type": "float"
        }
       ],
       "ref": "93d84263-4a71-48d7-b7b3-a49205196fdd",
       "rows": [
        [
         "now",
         "1249.919"
        ]
       ],
       "shape": {
        "columns": 1,
        "rows": 1
       }
      },
      "text/plain": [
       "snapshot\n",
       "now    1249.919\n",
       "dtype: float64"
      ]
     },
     "execution_count": 18,
     "metadata": {},
     "output_type": "execute_result"
    }
   ],
   "source": [
    "# Should be about 1022 = 0.9 * 1136\n",
    "network.loads_t['p'].sum(axis=1)"
   ]
  },
  {
   "cell_type": "code",
   "execution_count": 19,
   "id": "f8270772-fb00-4256-b7d6-3720684f5bdd",
   "metadata": {},
   "outputs": [
    {
     "data": {
      "application/vnd.microsoft.datawrangler.viewer.v0+json": {
       "columns": [
        {
         "name": "snapshot",
         "rawType": "object",
         "type": "string"
        },
        {
         "name": "L0",
         "rawType": "float64",
         "type": "float"
        },
        {
         "name": "L1",
         "rawType": "float64",
         "type": "float"
        },
        {
         "name": "L2",
         "rawType": "float64",
         "type": "float"
        },
        {
         "name": "L3",
         "rawType": "float64",
         "type": "float"
        },
        {
         "name": "L4",
         "rawType": "float64",
         "type": "float"
        },
        {
         "name": "L5",
         "rawType": "float64",
         "type": "float"
        },
        {
         "name": "L6",
         "rawType": "float64",
         "type": "float"
        },
        {
         "name": "L7",
         "rawType": "float64",
         "type": "float"
        },
        {
         "name": "L8",
         "rawType": "float64",
         "type": "float"
        },
        {
         "name": "L9",
         "rawType": "float64",
         "type": "float"
        },
        {
         "name": "L10",
         "rawType": "float64",
         "type": "float"
        },
        {
         "name": "L11",
         "rawType": "float64",
         "type": "float"
        },
        {
         "name": "L12",
         "rawType": "float64",
         "type": "float"
        },
        {
         "name": "L13",
         "rawType": "float64",
         "type": "float"
        },
        {
         "name": "L14",
         "rawType": "float64",
         "type": "float"
        },
        {
         "name": "L15",
         "rawType": "float64",
         "type": "float"
        },
        {
         "name": "L16",
         "rawType": "float64",
         "type": "float"
        },
        {
         "name": "L17",
         "rawType": "float64",
         "type": "float"
        },
        {
         "name": "L18",
         "rawType": "float64",
         "type": "float"
        },
        {
         "name": "L19",
         "rawType": "float64",
         "type": "float"
        },
        {
         "name": "L20",
         "rawType": "float64",
         "type": "float"
        },
        {
         "name": "L21",
         "rawType": "float64",
         "type": "float"
        },
        {
         "name": "L22",
         "rawType": "float64",
         "type": "float"
        },
        {
         "name": "L23",
         "rawType": "float64",
         "type": "float"
        },
        {
         "name": "L24",
         "rawType": "float64",
         "type": "float"
        },
        {
         "name": "L25",
         "rawType": "float64",
         "type": "float"
        },
        {
         "name": "L26",
         "rawType": "float64",
         "type": "float"
        },
        {
         "name": "L27",
         "rawType": "float64",
         "type": "float"
        },
        {
         "name": "L28",
         "rawType": "float64",
         "type": "float"
        },
        {
         "name": "L29",
         "rawType": "float64",
         "type": "float"
        },
        {
         "name": "L30",
         "rawType": "float64",
         "type": "float"
        },
        {
         "name": "L31",
         "rawType": "float64",
         "type": "float"
        },
        {
         "name": "L32",
         "rawType": "float64",
         "type": "float"
        },
        {
         "name": "L33",
         "rawType": "float64",
         "type": "float"
        },
        {
         "name": "L34",
         "rawType": "float64",
         "type": "float"
        },
        {
         "name": "L35",
         "rawType": "float64",
         "type": "float"
        },
        {
         "name": "L36",
         "rawType": "float64",
         "type": "float"
        },
        {
         "name": "L37",
         "rawType": "float64",
         "type": "float"
        },
        {
         "name": "L38",
         "rawType": "float64",
         "type": "float"
        },
        {
         "name": "L39",
         "rawType": "float64",
         "type": "float"
        },
        {
         "name": "L40",
         "rawType": "float64",
         "type": "float"
        },
        {
         "name": "L41",
         "rawType": "float64",
         "type": "float"
        },
        {
         "name": "L42",
         "rawType": "float64",
         "type": "float"
        },
        {
         "name": "L43",
         "rawType": "float64",
         "type": "float"
        },
        {
         "name": "L44",
         "rawType": "float64",
         "type": "float"
        },
        {
         "name": "L45",
         "rawType": "float64",
         "type": "float"
        },
        {
         "name": "L46",
         "rawType": "float64",
         "type": "float"
        },
        {
         "name": "L47",
         "rawType": "float64",
         "type": "float"
        },
        {
         "name": "L48",
         "rawType": "float64",
         "type": "float"
        },
        {
         "name": "L49",
         "rawType": "float64",
         "type": "float"
        },
        {
         "name": "L50",
         "rawType": "float64",
         "type": "float"
        },
        {
         "name": "L51",
         "rawType": "float64",
         "type": "float"
        },
        {
         "name": "L52",
         "rawType": "float64",
         "type": "float"
        },
        {
         "name": "L53",
         "rawType": "float64",
         "type": "float"
        },
        {
         "name": "L54",
         "rawType": "float64",
         "type": "float"
        },
        {
         "name": "L55",
         "rawType": "float64",
         "type": "float"
        },
        {
         "name": "L56",
         "rawType": "float64",
         "type": "float"
        },
        {
         "name": "L57",
         "rawType": "float64",
         "type": "float"
        },
        {
         "name": "L58",
         "rawType": "float64",
         "type": "float"
        },
        {
         "name": "L59",
         "rawType": "float64",
         "type": "float"
        },
        {
         "name": "L60",
         "rawType": "float64",
         "type": "float"
        },
        {
         "name": "L61",
         "rawType": "float64",
         "type": "float"
        },
        {
         "name": "L62",
         "rawType": "float64",
         "type": "float"
        },
        {
         "name": "L63",
         "rawType": "float64",
         "type": "float"
        },
        {
         "name": "L64",
         "rawType": "float64",
         "type": "float"
        },
        {
         "name": "L65",
         "rawType": "float64",
         "type": "float"
        },
        {
         "name": "L66",
         "rawType": "float64",
         "type": "float"
        },
        {
         "name": "L67",
         "rawType": "float64",
         "type": "float"
        },
        {
         "name": "L68",
         "rawType": "float64",
         "type": "float"
        },
        {
         "name": "L69",
         "rawType": "float64",
         "type": "float"
        },
        {
         "name": "L70",
         "rawType": "float64",
         "type": "float"
        },
        {
         "name": "L71",
         "rawType": "float64",
         "type": "float"
        },
        {
         "name": "L72",
         "rawType": "float64",
         "type": "float"
        },
        {
         "name": "L73",
         "rawType": "float64",
         "type": "float"
        },
        {
         "name": "L74",
         "rawType": "float64",
         "type": "float"
        },
        {
         "name": "L75",
         "rawType": "float64",
         "type": "float"
        },
        {
         "name": "L76",
         "rawType": "float64",
         "type": "float"
        }
       ],
       "ref": "b8ce2668-d1b7-4b8c-ad0f-f5bac72d2b3e",
       "rows": [
        [
         "now",
         "86.94426075416844",
         "86.94426075416844",
         "-24.725257246814152",
         "-73.31287720880465",
         "-73.31287720880465",
         "-67.68719659183806",
         "-67.68719659183806",
         "40.96431605032141",
         "50.3264929576281",
         "50.3264929576281",
         "43.33086860854426",
         "33.439509587544904",
         "-40.46459226301541",
         "-40.46459226301541",
         "-40.46459226301541",
         "-10.109076897692892",
         "-10.109076897692892",
         "37.77105429590579",
         "37.77105429590579",
         "45.568216463397206",
         "-68.90073623924823",
         "-68.90073623924823",
         "-68.90073623924823",
         "20.262883588478992",
         "15.52631412067164",
         "75.07325107882889",
         "52.0584786612503",
         "-25.08120461763617",
         "-25.08120461763617",
         "-25.08120461763617",
         "41.84789806541096",
         "36.55331249780284",
         "36.55331249780284",
         "-4.2459632382641415",
         "27.194038309526373",
         "27.194038309526373",
         "27.194038309526373",
         "6.688231810842246",
         "-39.1491158458258",
         "-39.1491158458258",
         "29.05724798457191",
         "-17.443902382006907",
         "-13.171917111600806",
         "-7.216921647850829",
         "20.53639103250155",
         "14.191991380362898",
         "32.94529386058684",
         "7.189563517978636",
         "-85.43788478127246",
         "-85.43788478127246",
         "-85.43788478127246",
         "-85.43788478127246",
         "-3.9485269173818955",
         "-39.66649378533043",
         "-27.82997929332747",
         "-31.90185078952496",
         "-50.90661070710458",
         "-0.4530324473146834",
         "-0.4530324473146834",
         "-4.717197086850541",
         "-4.717197086850541",
         "-32.38318774433266",
         "-9.420418081339646",
         "-71.42897174658387",
         "-71.42897174658387",
         "-57.75583901059722",
         "-57.75583901059722",
         "59.015000000821736",
         "40.20832633061174",
         "40.20832633061174",
         "36.71134733945264",
         "14.053297520775878",
         "35.60200120924833",
         "25.3303088782176",
         "-20.582982439079338",
         "-20.582982439079338",
         "27.456205159158028"
        ]
       ],
       "shape": {
        "columns": 77,
        "rows": 1
       }
      },
      "text/html": [
       "<div>\n",
       "<style scoped>\n",
       "    .dataframe tbody tr th:only-of-type {\n",
       "        vertical-align: middle;\n",
       "    }\n",
       "\n",
       "    .dataframe tbody tr th {\n",
       "        vertical-align: top;\n",
       "    }\n",
       "\n",
       "    .dataframe thead th {\n",
       "        text-align: right;\n",
       "    }\n",
       "</style>\n",
       "<table border=\"1\" class=\"dataframe\">\n",
       "  <thead>\n",
       "    <tr style=\"text-align: right;\">\n",
       "      <th>name</th>\n",
       "      <th>L0</th>\n",
       "      <th>L1</th>\n",
       "      <th>L2</th>\n",
       "      <th>L3</th>\n",
       "      <th>L4</th>\n",
       "      <th>L5</th>\n",
       "      <th>L6</th>\n",
       "      <th>L7</th>\n",
       "      <th>L8</th>\n",
       "      <th>L9</th>\n",
       "      <th>...</th>\n",
       "      <th>L67</th>\n",
       "      <th>L68</th>\n",
       "      <th>L69</th>\n",
       "      <th>L70</th>\n",
       "      <th>L71</th>\n",
       "      <th>L72</th>\n",
       "      <th>L73</th>\n",
       "      <th>L74</th>\n",
       "      <th>L75</th>\n",
       "      <th>L76</th>\n",
       "    </tr>\n",
       "    <tr>\n",
       "      <th>snapshot</th>\n",
       "      <th></th>\n",
       "      <th></th>\n",
       "      <th></th>\n",
       "      <th></th>\n",
       "      <th></th>\n",
       "      <th></th>\n",
       "      <th></th>\n",
       "      <th></th>\n",
       "      <th></th>\n",
       "      <th></th>\n",
       "      <th></th>\n",
       "      <th></th>\n",
       "      <th></th>\n",
       "      <th></th>\n",
       "      <th></th>\n",
       "      <th></th>\n",
       "      <th></th>\n",
       "      <th></th>\n",
       "      <th></th>\n",
       "      <th></th>\n",
       "      <th></th>\n",
       "    </tr>\n",
       "  </thead>\n",
       "  <tbody>\n",
       "    <tr>\n",
       "      <th>now</th>\n",
       "      <td>86.944261</td>\n",
       "      <td>86.944261</td>\n",
       "      <td>-24.725257</td>\n",
       "      <td>-73.312877</td>\n",
       "      <td>-73.312877</td>\n",
       "      <td>-67.687197</td>\n",
       "      <td>-67.687197</td>\n",
       "      <td>40.964316</td>\n",
       "      <td>50.326493</td>\n",
       "      <td>50.326493</td>\n",
       "      <td>...</td>\n",
       "      <td>59.015</td>\n",
       "      <td>40.208326</td>\n",
       "      <td>40.208326</td>\n",
       "      <td>36.711347</td>\n",
       "      <td>14.053298</td>\n",
       "      <td>35.602001</td>\n",
       "      <td>25.330309</td>\n",
       "      <td>-20.582982</td>\n",
       "      <td>-20.582982</td>\n",
       "      <td>27.456205</td>\n",
       "    </tr>\n",
       "  </tbody>\n",
       "</table>\n",
       "<p>1 rows × 77 columns</p>\n",
       "</div>"
      ],
      "text/plain": [
       "name             L0         L1         L2         L3         L4         L5  \\\n",
       "snapshot                                                                     \n",
       "now       86.944261  86.944261 -24.725257 -73.312877 -73.312877 -67.687197   \n",
       "\n",
       "name             L6         L7         L8         L9  ...     L67        L68  \\\n",
       "snapshot                                              ...                      \n",
       "now      -67.687197  40.964316  50.326493  50.326493  ...  59.015  40.208326   \n",
       "\n",
       "name            L69        L70        L71        L72        L73        L74  \\\n",
       "snapshot                                                                     \n",
       "now       40.208326  36.711347  14.053298  35.602001  25.330309 -20.582982   \n",
       "\n",
       "name            L75        L76  \n",
       "snapshot                        \n",
       "now      -20.582982  27.456205  \n",
       "\n",
       "[1 rows x 77 columns]"
      ]
     },
     "execution_count": 19,
     "metadata": {},
     "output_type": "execute_result"
    }
   ],
   "source": [
    "network.lines_t['p0']"
   ]
  }
 ],
 "metadata": {
  "kernelspec": {
   "display_name": "base",
   "language": "python",
   "name": "python3"
  },
  "language_info": {
   "codemirror_mode": {
    "name": "ipython",
    "version": 3
   },
   "file_extension": ".py",
   "mimetype": "text/x-python",
   "name": "python",
   "nbconvert_exporter": "python",
   "pygments_lexer": "ipython3",
   "version": "3.13.5"
  }
 },
 "nbformat": 4,
 "nbformat_minor": 5
}
